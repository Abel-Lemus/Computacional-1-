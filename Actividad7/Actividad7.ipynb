{
  "nbformat": 4,
  "nbformat_minor": 0,
  "metadata": {
    "colab": {
      "name": "Actividad7.ipynb",
      "provenance": [],
      "collapsed_sections": []
    },
    "kernelspec": {
      "name": "python3",
      "display_name": "Python 3"
    }
  },
  "cells": [
    {
      "cell_type": "code",
      "metadata": {
        "id": "kLdiqAedO3GY"
      },
      "source": [
        "#Primero cargamos las bibliotecas a utilizar \n",
        "# 1 de marzo de 2021\n",
        "# Cargamos las bibliotecas para trabajar en Algebra Lineal\n",
        "\n",
        "import numpy as np\n",
        "import scipy.linalg as la\n",
        "from numpy.linalg import matrix_power as mpow\n",
        "\n",
        "import matplotlib.pyplot as plt\n",
        "%matplotlib inline"
      ],
      "execution_count": null,
      "outputs": []
    },
    {
      "cell_type": "markdown",
      "metadata": {
        "id": "Uk7kUEp0fFXP"
      },
      "source": [
        "Primero calcularemos 2I + 3A + AB "
      ]
    },
    {
      "cell_type": "code",
      "metadata": {
        "colab": {
          "base_uri": "https://localhost:8080/"
        },
        "id": "A4HbCw7HPpo6",
        "outputId": "2d33061f-adf5-428f-82b2-93577435054c"
      },
      "source": [
        "# Empezamos definiendo las matrices, nos vamos en orden \n",
        "# Primero la matriz A \n",
        "A = np.array([[1,3],[-1,7]])\n",
        "print(A)"
      ],
      "execution_count": null,
      "outputs": [
        {
          "output_type": "stream",
          "text": [
            "[[ 1  3]\n",
            " [-1  7]]\n"
          ],
          "name": "stdout"
        }
      ]
    },
    {
      "cell_type": "code",
      "metadata": {
        "colab": {
          "base_uri": "https://localhost:8080/"
        },
        "id": "hD2H3vS8fg-T",
        "outputId": "bf690c23-a458-4229-d334-0dfd291f4b0a"
      },
      "source": [
        "# Hacemos el mismo procedimiento pero ahora para la matriz B \n",
        "B = np.array([[5,2],[1,2]])\n",
        "print(B)"
      ],
      "execution_count": null,
      "outputs": [
        {
          "output_type": "stream",
          "text": [
            "[[5 2]\n",
            " [1 2]]\n"
          ],
          "name": "stdout"
        }
      ]
    },
    {
      "cell_type": "code",
      "metadata": {
        "colab": {
          "base_uri": "https://localhost:8080/"
        },
        "id": "Dh-wzoLvgXot",
        "outputId": "6b737b91-a9e3-43ec-8a5e-122bb6eb5d26"
      },
      "source": [
        "# Y antes de empezar con las operaciones definimos la matriz I \n",
        "I=np.eye(2, dtype=int)\n",
        "print(I)"
      ],
      "execution_count": null,
      "outputs": [
        {
          "output_type": "stream",
          "text": [
            "[[1 0]\n",
            " [0 1]]\n"
          ],
          "name": "stdout"
        }
      ]
    },
    {
      "cell_type": "code",
      "metadata": {
        "colab": {
          "base_uri": "https://localhost:8080/"
        },
        "id": "ABqpbuCFgoi0",
        "outputId": "ae5bb208-194b-484c-e6cc-2305e8145311"
      },
      "source": [
        "# Hacemos las operaciones correspondientes \n",
        "R=(2*I)+(3*A)+(A@B)\n",
        "print('El resultado es')\n",
        "print(R)"
      ],
      "execution_count": null,
      "outputs": [
        {
          "output_type": "stream",
          "text": [
            "El resultado es\n",
            "[[13 17]\n",
            " [-1 35]]\n"
          ],
          "name": "stdout"
        }
      ]
    },
    {
      "cell_type": "markdown",
      "metadata": {
        "id": "q3oQYcPakzMd"
      },
      "source": [
        "Potencias de Matrices"
      ]
    },
    {
      "cell_type": "code",
      "metadata": {
        "colab": {
          "base_uri": "https://localhost:8080/"
        },
        "id": "h5YvJSbYhwPZ",
        "outputId": "85d1c8b8-cf3b-464a-81f7-cc8bf5ee3f01"
      },
      "source": [
        "# Vamos a definir una matriz M \n",
        "M= np.array([[1,2],[3,4]])\n",
        "print(M)"
      ],
      "execution_count": null,
      "outputs": [
        {
          "output_type": "stream",
          "text": [
            "[[1 2]\n",
            " [3 4]]\n"
          ],
          "name": "stdout"
        }
      ]
    },
    {
      "cell_type": "code",
      "metadata": {
        "colab": {
          "base_uri": "https://localhost:8080/"
        },
        "id": "e9V1F-Zki1So",
        "outputId": "36f3ffe0-d878-4bcd-a51a-6463fd82f034"
      },
      "source": [
        "# Cuadrado: M^2 = M@M\n",
        "print(M@M)\n",
        "print(mpow(M,2))"
      ],
      "execution_count": null,
      "outputs": [
        {
          "output_type": "stream",
          "text": [
            "[[ 7 10]\n",
            " [15 22]]\n",
            "[[ 7 10]\n",
            " [15 22]]\n"
          ],
          "name": "stdout"
        }
      ]
    },
    {
      "cell_type": "code",
      "metadata": {
        "colab": {
          "base_uri": "https://localhost:8080/"
        },
        "id": "WRvtPTDOkyLw",
        "outputId": "881c6b89-7829-4991-b9d8-a89b1f6129d3"
      },
      "source": [
        "# Quinta potencia: M^5 = M@M@M@M@M\n",
        "print(M@M@M@M@M)\n",
        "print(mpow(M,5))"
      ],
      "execution_count": null,
      "outputs": [
        {
          "output_type": "stream",
          "text": [
            "[[1069 1558]\n",
            " [2337 3406]]\n",
            "[[1069 1558]\n",
            " [2337 3406]]\n"
          ],
          "name": "stdout"
        }
      ]
    },
    {
      "cell_type": "markdown",
      "metadata": {
        "id": "NIcfwim_lLXf"
      },
      "source": [
        "Matriz Transpuesta $M^T$"
      ]
    },
    {
      "cell_type": "code",
      "metadata": {
        "colab": {
          "base_uri": "https://localhost:8080/"
        },
        "id": "XwOc_DHGlGTp",
        "outputId": "1bc5cf80-cedc-49f8-af17-a5340a6b5c0d"
      },
      "source": [
        "# La matriz M y su transpuesta\n",
        "print(M)\n",
        "print(M.T)"
      ],
      "execution_count": null,
      "outputs": [
        {
          "output_type": "stream",
          "text": [
            "[[1 2]\n",
            " [3 4]]\n",
            "[[1 3]\n",
            " [2 4]]\n"
          ],
          "name": "stdout"
        }
      ]
    },
    {
      "cell_type": "code",
      "metadata": {
        "colab": {
          "base_uri": "https://localhost:8080/"
        },
        "id": "snrtXkHglPl9",
        "outputId": "674c4149-215d-4222-aab4-f1f934e1f4b4"
      },
      "source": [
        "# El producto de M por M.T, debe ser una matriz simétrica.\n",
        "M @ M.T"
      ],
      "execution_count": null,
      "outputs": [
        {
          "output_type": "execute_result",
          "data": {
            "text/plain": [
              "array([[ 5, 11],\n",
              "       [11, 25]])"
            ]
          },
          "metadata": {
            "tags": []
          },
          "execution_count": 13
        }
      ]
    },
    {
      "cell_type": "markdown",
      "metadata": {
        "id": "qL4th1-ZmMjU"
      },
      "source": [
        "Ejercicio 2. Los polinomios característicos y el Teorema de Cayley-Hamilton.\n",
        "\n",
        "El polinomio característico de una matriz M esta dado en general por la ecuación$$\n",
        "\\det(M - \\lambda I) = 0\n",
        "$$"
      ]
    },
    {
      "cell_type": "code",
      "metadata": {
        "colab": {
          "base_uri": "https://localhost:8080/"
        },
        "id": "lGQ33baMnhDV",
        "outputId": "9f39d035-ff0f-4fec-ee8c-c98591a7713a"
      },
      "source": [
        "# Definimos una matriz M junto con la traza y el determinante \n",
        "M = np.array([[1,2],[3,4]])\n",
        "trM = np.trace(M)\n",
        "M_det = la.det(M)\n",
        "\n",
        "\n",
        "print('M = ',M)\n",
        "\n",
        "print('tr(M) = ', trM)\n",
        "\n",
        "print('det(M) = ', M_det)"
      ],
      "execution_count": null,
      "outputs": [
        {
          "output_type": "stream",
          "text": [
            "M =  [[1 2]\n",
            " [3 4]]\n",
            "tr(M) =  5\n",
            "det(M) =  -2.0\n"
          ],
          "name": "stdout"
        }
      ]
    },
    {
      "cell_type": "code",
      "metadata": {
        "colab": {
          "base_uri": "https://localhost:8080/"
        },
        "id": "NWHFsPxOnqFt",
        "outputId": "240319a0-eefe-426e-e86c-9f9a1f306e7b"
      },
      "source": [
        "# Matriz identidad \n",
        "I = np.eye(2, dtype=int)\n",
        "print(I)"
      ],
      "execution_count": null,
      "outputs": [
        {
          "output_type": "stream",
          "text": [
            "[[1 0]\n",
            " [0 1]]\n"
          ],
          "name": "stdout"
        }
      ]
    },
    {
      "cell_type": "code",
      "metadata": {
        "colab": {
          "base_uri": "https://localhost:8080/"
        },
        "id": "irfVvgvgpUTE",
        "outputId": "eb540c04-2085-4c0c-c2a7-20293c813036"
      },
      "source": [
        "# Teorema de Cayley-Hamilton\n",
        "PM = M_det*I - trM*M + M@M\n",
        "\n",
        "print(PM)"
      ],
      "execution_count": null,
      "outputs": [
        {
          "output_type": "stream",
          "text": [
            "[[0. 0.]\n",
            " [0. 0.]]\n"
          ],
          "name": "stdout"
        }
      ]
    },
    {
      "cell_type": "markdown",
      "metadata": {
        "id": "gsZrD0MGqMtv"
      },
      "source": [
        "\n",
        "Ejercicio 3\\ Resuelve el sistema de ecuaciones.$$\\begin{eqnarray*}\n",
        "x - 3 y + z & = & 1 \\\\ \\nonumber\n",
        "3 x - 4y + z & = & 5 \\\\ \\nonumber\n",
        "2 y - z & = & 0 \\\\ \\nonumber\n",
        "\\end{eqnarray*}$$        Utilizando el Método de Eliminación Gaussiana y la función scipy.linalg.solve()"
      ]
    },
    {
      "cell_type": "code",
      "metadata": {
        "id": "-1iF7aExror-"
      },
      "source": [
        "# Implementación del método de eliminación Gaussiana\n",
        "# Definimos 3 funciones\n",
        "\n",
        "# Intercambio de posición de renglones.\n",
        "def switch_rows(A,i,j):\n",
        "  \"Intercambiar renglones i y j en la Matriz A.\"\n",
        "  n=A.shape[0]\n",
        "  E=np.eye(n)\n",
        "  E[i,i]=0\n",
        "  E[j,j]=0\n",
        "  E[i,j]=1\n",
        "  E[j,i]=1\n",
        "  return E @ A\n",
        "\n",
        "# Multiplicar un renglón por un aconstante no nula.\n",
        "def scale_row(A,k,i):\n",
        "  \"Multiplicar el renglón i por k en la Matriz A.\"\n",
        "  n=A.shape[0]\n",
        "  E=np.eye(n)\n",
        "  E[i,i]=k\n",
        "  return E @ A\n",
        "\n",
        "# Sumar un múltiplo de un renglón a otro renglón.\n",
        "def add_row(A,k,i,j):\n",
        "  \"Sumar k vaces el renglón j al renglón i en la Matriz A.\"\n",
        "  n=A.shape[0]\n",
        "  E=np.eye(n)\n",
        "  if i== j:\n",
        "    E[i,j]=k+1\n",
        "  else:\n",
        "    E[i,j]=k\n",
        "  return E @ A"
      ],
      "execution_count": null,
      "outputs": []
    },
    {
      "cell_type": "code",
      "metadata": {
        "id": "5fMxkUyls5ak"
      },
      "source": [
        "# Matriz J\n",
        "J = np.array([[1,-3,1],[3,-4,1],[0,2,-1]])"
      ],
      "execution_count": null,
      "outputs": []
    },
    {
      "cell_type": "code",
      "metadata": {
        "colab": {
          "base_uri": "https://localhost:8080/"
        },
        "id": "CP9OnF5mtEF_",
        "outputId": "57efa751-f5da-425e-d3c5-14575b63f612"
      },
      "source": [
        "#Matriz Aumentada Z: Unimos la Matriz H con la Matriz Identidad\n",
        "Z = np.hstack([J,np.eye(3)])\n",
        "print(Z)"
      ],
      "execution_count": null,
      "outputs": [
        {
          "output_type": "stream",
          "text": [
            "[[ 1. -3.  1.  1.  0.  0.]\n",
            " [ 3. -4.  1.  0.  1.  0.]\n",
            " [ 0.  2. -1.  0.  0.  1.]]\n"
          ],
          "name": "stdout"
        }
      ]
    },
    {
      "cell_type": "code",
      "metadata": {
        "colab": {
          "base_uri": "https://localhost:8080/"
        },
        "id": "U5aJLQMktSkI",
        "outputId": "1669d7de-f932-4de8-a581-184049f3c399"
      },
      "source": [
        "# 1 \n",
        "Z1 = add_row(Z,-3,1,0)\n",
        "print(Z1)"
      ],
      "execution_count": null,
      "outputs": [
        {
          "output_type": "stream",
          "text": [
            "[[ 1. -3.  1.  1.  0.  0.]\n",
            " [ 0.  5. -2. -3.  1.  0.]\n",
            " [ 0.  2. -1.  0.  0.  1.]]\n"
          ],
          "name": "stdout"
        }
      ]
    },
    {
      "cell_type": "code",
      "metadata": {
        "colab": {
          "base_uri": "https://localhost:8080/"
        },
        "id": "mX2j8p7iuVqd",
        "outputId": "90692527-4a37-4a11-e1d8-f21e05b1318e"
      },
      "source": [
        "# 2\n",
        "Z2 = scale_row(Z1,1,1)\n",
        "print(Z2)"
      ],
      "execution_count": null,
      "outputs": [
        {
          "output_type": "stream",
          "text": [
            "[[ 1. -3.  1.  1.  0.  0.]\n",
            " [ 0.  5. -2. -3.  1.  0.]\n",
            " [ 0.  2. -1.  0.  0.  1.]]\n"
          ],
          "name": "stdout"
        }
      ]
    },
    {
      "cell_type": "code",
      "metadata": {
        "colab": {
          "base_uri": "https://localhost:8080/"
        },
        "id": "d7KWcUAfuwf1",
        "outputId": "79b6da46-3115-44af-c952-0391cabbc68e"
      },
      "source": [
        "# 3\n",
        "Z3 = add_row(Z2,4,1,2)\n",
        "print(Z3)"
      ],
      "execution_count": null,
      "outputs": [
        {
          "output_type": "stream",
          "text": [
            "[[ 1. -3.  1.  1.  0.  0.]\n",
            " [ 0. 13. -6. -3.  1.  4.]\n",
            " [ 0.  2. -1.  0.  0.  1.]]\n"
          ],
          "name": "stdout"
        }
      ]
    },
    {
      "cell_type": "code",
      "metadata": {
        "colab": {
          "base_uri": "https://localhost:8080/"
        },
        "id": "Oln-duX-vDrH",
        "outputId": "920fdd3f-88b2-498e-a03e-1e775bec2c83"
      },
      "source": [
        "# 4 \n",
        "Z4 = add_row(Z3,2,0,1)\n",
        "print(Z4)"
      ],
      "execution_count": null,
      "outputs": [
        {
          "output_type": "stream",
          "text": [
            "[[  1.  23. -11.  -5.   2.   8.]\n",
            " [  0.  13.  -6.  -3.   1.   4.]\n",
            " [  0.   2.  -1.   0.   0.   1.]]\n"
          ],
          "name": "stdout"
        }
      ]
    },
    {
      "cell_type": "code",
      "metadata": {
        "colab": {
          "base_uri": "https://localhost:8080/"
        },
        "id": "YZY4PMORysTL",
        "outputId": "e81ad9d0-2238-431d-aa3c-9381470c06a1"
      },
      "source": [
        "# 5 \n",
        "Z5 = scale_row(Z4,3/2,1)\n",
        "print(Z5)"
      ],
      "execution_count": null,
      "outputs": [
        {
          "output_type": "stream",
          "text": [
            "[[  1.   23.  -11.   -5.    2.    8. ]\n",
            " [  0.   19.5  -9.   -4.5   1.5   6. ]\n",
            " [  0.    2.   -1.    0.    0.    1. ]]\n"
          ],
          "name": "stdout"
        }
      ]
    },
    {
      "cell_type": "markdown",
      "metadata": {
        "id": "CAnGgvX61to7"
      },
      "source": [
        " función scipy.linalg.solve()"
      ]
    },
    {
      "cell_type": "code",
      "metadata": {
        "colab": {
          "base_uri": "https://localhost:8080/"
        },
        "id": "ozRWRR8CzZ_X",
        "outputId": "c9f31742-d876-4e55-8c3c-29fb3d5db580"
      },
      "source": [
        "\n",
        "# Definiendo el vector b\n",
        "b=np.array([1,5,0]).reshape(3,1)\n",
        "print(b)"
      ],
      "execution_count": null,
      "outputs": [
        {
          "output_type": "stream",
          "text": [
            "[[1]\n",
            " [5]\n",
            " [0]]\n"
          ],
          "name": "stdout"
        }
      ]
    },
    {
      "cell_type": "code",
      "metadata": {
        "colab": {
          "base_uri": "https://localhost:8080/"
        },
        "id": "xAiegSZ51fuO",
        "outputId": "1082949b-38a0-4f94-b1c3-bcff313e5c6c"
      },
      "source": [
        "# Resolviendo el sistema de ecuaciones usando scipy.linalg.solve\n",
        "x_sol=la.solve(J,b)\n",
        "print(x_sol)"
      ],
      "execution_count": null,
      "outputs": [
        {
          "output_type": "stream",
          "text": [
            "[[3.]\n",
            " [2.]\n",
            " [4.]]\n"
          ],
          "name": "stdout"
        }
      ]
    },
    {
      "cell_type": "markdown",
      "metadata": {
        "id": "q7EVlycu3Nrr"
      },
      "source": [
        "Ejercicio 4:\n",
        "\n",
        "Dadas las siguientes matrices $B_1, B_2$ y $B_3$\n",
        "\n",
        "(Ejemplos del artículo de Wikipedia sobre Eigenvalores y Eigenvectores)\n",
        "\n",
        "$$\\begin{equation*}\n",
        "B_1 = \\begin{bmatrix}\n",
        "2 & 0 & 0 \\\\\n",
        "0 & 3 & 4 \\\\\n",
        "0 & 4 & 9 \\\\\n",
        "\\end{bmatrix}\n",
        "\\end{equation*}$$$$\\begin{equation*}\n",
        "B_2 = \\begin{bmatrix}\n",
        "0 & 1 & 0 \\\\\n",
        "0 & 0 & 1 \\\\\n",
        "1 & 0 & 0 \\\\\n",
        "\\end{bmatrix}\n",
        "\\end{equation*}$$$$\\begin{equation*}\n",
        "B_3 = \\begin{bmatrix}\n",
        "2 & 0 & 0 & 0\\\\\n",
        "1 & 2 & 0 & 0 \\\\\n",
        "0 & 1 & 3 & 0 \\\\\n",
        "0 & 0 & 1 & 3 \\\\\n",
        "\\end{bmatrix}\n",
        "\\end{equation*}$$\n",
        "Encuentra los eigenvalores y eigenvectores de cada matriz utilizando la función de scipy.linalg.eig(), y contrasta tus resultados en cada caso con los que se desarrollan en los ejemplos de la Wikipedia"
      ]
    },
    {
      "cell_type": "code",
      "metadata": {
        "colab": {
          "base_uri": "https://localhost:8080/"
        },
        "id": "-TVmBg4a1s5Q",
        "outputId": "7922455a-be19-452c-d99c-b0627ce76c99"
      },
      "source": [
        "# Empezamos definiendo las matrices B1 \n",
        "\n",
        "B1 = np.array([[2,0,0],[0,3,4],[0,4,9]])\n",
        "\n",
        "print(B1)"
      ],
      "execution_count": null,
      "outputs": [
        {
          "output_type": "stream",
          "text": [
            "[[2 0 0]\n",
            " [0 3 4]\n",
            " [0 4 9]]\n"
          ],
          "name": "stdout"
        }
      ]
    },
    {
      "cell_type": "code",
      "metadata": {
        "colab": {
          "base_uri": "https://localhost:8080/"
        },
        "id": "-nR63EkI4vzw",
        "outputId": "e3bea9bf-5e00-4762-8717-0c4f5b83511b"
      },
      "source": [
        "# Obtenemos los eigenvalores/vectores con la biblioteca scipy.linalg.eig()\n",
        "# Primero para la matriz B1 \n",
        "eigvals1, eigvecs1 = la.eig(B1)\n",
        "print('Los eigenvalores de B1:')\n",
        "print(np.round(eigvals1,2))\n",
        "print('Los eigenvectores de B1:')\n",
        "print(np.round(eigvecs1,2))\n",
        "print('             ')"
      ],
      "execution_count": null,
      "outputs": [
        {
          "output_type": "stream",
          "text": [
            "Los eigenvalores de B1:\n",
            "[11.+0.j  1.+0.j  2.+0.j]\n",
            "Los eigenvectores de B1:\n",
            "[[ 0.    0.    1.  ]\n",
            " [ 0.45  0.89  0.  ]\n",
            " [ 0.89 -0.45  0.  ]]\n",
            "             \n"
          ],
          "name": "stdout"
        }
      ]
    },
    {
      "cell_type": "code",
      "metadata": {
        "colab": {
          "base_uri": "https://localhost:8080/"
        },
        "id": "zaJUidGT44Xc",
        "outputId": "a822e870-508a-4595-e49f-f1296e3244b7"
      },
      "source": [
        "# Ahora definimos la matriz B2 \n",
        "\n",
        "B2 = np.array([[0,1,0],[0,0,1],[1,0,0]])\n",
        "\n",
        "print(B2)"
      ],
      "execution_count": null,
      "outputs": [
        {
          "output_type": "stream",
          "text": [
            "[[0 1 0]\n",
            " [0 0 1]\n",
            " [1 0 0]]\n"
          ],
          "name": "stdout"
        }
      ]
    },
    {
      "cell_type": "code",
      "metadata": {
        "colab": {
          "base_uri": "https://localhost:8080/"
        },
        "id": "HrpEAcOj5Lpw",
        "outputId": "7a2983b4-d007-48c2-d272-a6d55ed75738"
      },
      "source": [
        "eigvals2, eigvecs2 = la.eig(B2)\n",
        "print('Los eigenvalores de B2:')\n",
        "print(np.round(eigvals2,2))\n",
        "print('Los eigenvectores de B2:')\n",
        "print(np.round(eigvecs2,2))\n",
        "print('             ')\n"
      ],
      "execution_count": null,
      "outputs": [
        {
          "output_type": "stream",
          "text": [
            "Los eigenvalores de B2:\n",
            "[-0.5+0.87j -0.5-0.87j  1. +0.j  ]\n",
            "Los eigenvectores de B2:\n",
            "[[ 0.58+0.j   0.58-0.j  -0.58+0.j ]\n",
            " [-0.29+0.5j -0.29-0.5j -0.58+0.j ]\n",
            " [-0.29-0.5j -0.29+0.5j -0.58+0.j ]]\n",
            "             \n"
          ],
          "name": "stdout"
        }
      ]
    },
    {
      "cell_type": "code",
      "metadata": {
        "colab": {
          "base_uri": "https://localhost:8080/"
        },
        "id": "QbxwOaN_5O6k",
        "outputId": "c9a01962-c4ec-44da-abed-fc645c45a28c"
      },
      "source": [
        "# Por ultimo definimos la matriz B3 \n",
        "\n",
        "B3 = np.array([[2,0,0,0],[1,2,0,0],[0,1,3,0],[0,0,1,3]])\n",
        "\n",
        "print(B3)"
      ],
      "execution_count": null,
      "outputs": [
        {
          "output_type": "stream",
          "text": [
            "[[2 0 0 0]\n",
            " [1 2 0 0]\n",
            " [0 1 3 0]\n",
            " [0 0 1 3]]\n"
          ],
          "name": "stdout"
        }
      ]
    },
    {
      "cell_type": "code",
      "metadata": {
        "colab": {
          "base_uri": "https://localhost:8080/"
        },
        "id": "FV--3HVY5S90",
        "outputId": "ba6c55ec-c265-459b-a656-266f124899a2"
      },
      "source": [
        "eigvals3, eigvecs3 = la.eig(B3)\n",
        "print('Los eigenvalores de B3:')\n",
        "print(np.round(eigvals3,2))\n",
        "print('Los eigenvectores de B1:')\n",
        "print(np.round(eigvecs3,2))\n",
        "print(eigvecs1)"
      ],
      "execution_count": null,
      "outputs": [
        {
          "output_type": "stream",
          "text": [
            "Los eigenvalores de B3:\n",
            "[3.+0.j 3.+0.j 2.+0.j 2.+0.j]\n",
            "Los eigenvectores de B1:\n",
            "[[ 0.    0.    0.    0.  ]\n",
            " [ 0.    0.    0.58 -0.58]\n",
            " [ 0.    0.   -0.58  0.58]\n",
            " [ 1.   -1.    0.58 -0.58]]\n",
            "[[ 0.          0.          1.        ]\n",
            " [ 0.4472136   0.89442719  0.        ]\n",
            " [ 0.89442719 -0.4472136   0.        ]]\n"
          ],
          "name": "stdout"
        }
      ]
    },
    {
      "cell_type": "markdown",
      "metadata": {
        "id": "dHmYICGk6IMy"
      },
      "source": [
        "Ejercicio 5. Se tienen los siguientes 8 puntos:\n",
        "\n",
        "$$\\begin{eqnarray*} \n",
        "(x& ,& y) \\\\\n",
        "(0.0 & ,&  0.0), \\\\ \n",
        "(0.5 & ,&  0.47942), \\\\ \n",
        "(1.0 & ,&  0.84147), \\\\\n",
        "(1.5 & ,&  0.99749), \\\\\n",
        "(2.0 & ,&  0.90930), \\\\\n",
        "(2.5 & ,&  0.59847), \\\\\n",
        "(3.0 & ,&  0.14112), \\\\\n",
        "(3.5 & ,&  -0.35078) \\\\\n",
        "\\end{eqnarray*}$$\n",
        "Encuentre un polinomio interpolante $p(x)$ que pase por los 8 puntos.\n",
        "\n",
        "Sobreponga la función $y=\\sin(x)$ y contrástela con el polinomio $p(x)$."
      ]
    },
    {
      "cell_type": "code",
      "metadata": {
        "id": "Y0Wk86yO6TTZ"
      },
      "source": [
        "# Separamos las componentes en x & y \n",
        "# Primero las componentes del eje x \n",
        "x = np.array([0.0,0.5,1.0,1.5,2.0,2.5,3.0,3.5])\n",
        "\n",
        "# Ahora las componentes del eje y \n",
        "y = np.array([0.0,0.47942,0.84147,0.99749,0.90930,0.59847,0.14112,-0.35078])"
      ],
      "execution_count": null,
      "outputs": []
    },
    {
      "cell_type": "code",
      "metadata": {
        "colab": {
          "base_uri": "https://localhost:8080/"
        },
        "id": "lf-rQBVP77qb",
        "outputId": "8574c678-de76-482a-c7ad-13362aaa9391"
      },
      "source": [
        "# Imprimimos los puntos para asegurarnos que si sean los correctos \n",
        "\n",
        "pp = np.array([[x],[y]])\n",
        "\n",
        "print(pp)"
      ],
      "execution_count": null,
      "outputs": [
        {
          "output_type": "stream",
          "text": [
            "[[[ 0.       0.5      1.       1.5      2.       2.5      3.\n",
            "    3.5    ]]\n",
            "\n",
            " [[ 0.       0.47942  0.84147  0.99749  0.9093   0.59847  0.14112\n",
            "   -0.35078]]]\n"
          ],
          "name": "stdout"
        }
      ]
    },
    {
      "cell_type": "code",
      "metadata": {
        "colab": {
          "base_uri": "https://localhost:8080/",
          "height": 279
        },
        "id": "pjF18NkY8Ipw",
        "outputId": "c3dc85f2-fff7-4925-d386-eb609209a36b"
      },
      "source": [
        "# Ahora imprimimos la grafica con los puntos correspondientes \n",
        "\n",
        "# Gráficamos los puntos dados que vamos a interpolar.\n",
        "plt.plot(x,y,'r.', color='g')\n",
        "plt.grid()\n",
        "plt.xlabel('eje x', color='lime')\n",
        "plt.ylabel('eje y', color='r')\n",
        "plt.show()"
      ],
      "execution_count": null,
      "outputs": [
        {
          "output_type": "display_data",
          "data": {
            "image/png": "[encoded data removed]",
            "text/plain": [
              "<Figure size 432x288 with 1 Axes>"
            ]
          },
          "metadata": {
            "tags": [],
            "needs_background": "light"
          }
        }
      ]
    },
    {
      "cell_type": "code",
      "metadata": {
        "colab": {
          "base_uri": "https://localhost:8080/"
        },
        "id": "mIqU5Aey-NFG",
        "outputId": "57c89489-6dbc-467a-d90f-007ca9fd5dac"
      },
      "source": [
        "#La biblioteca Numpy tiene una función para crear la matriz de Vandemonde\n",
        "X = np.vander(x, increasing=True)\n",
        "#Solo imprimimos los primeros 5 renglones y columnas\n",
        "print(X[:7,:7])"
      ],
      "execution_count": null,
      "outputs": [
        {
          "output_type": "stream",
          "text": [
            "[[1.00000000e+00 0.00000000e+00 0.00000000e+00 0.00000000e+00\n",
            "  0.00000000e+00 0.00000000e+00 0.00000000e+00]\n",
            " [1.00000000e+00 5.00000000e-01 2.50000000e-01 1.25000000e-01\n",
            "  6.25000000e-02 3.12500000e-02 1.56250000e-02]\n",
            " [1.00000000e+00 1.00000000e+00 1.00000000e+00 1.00000000e+00\n",
            "  1.00000000e+00 1.00000000e+00 1.00000000e+00]\n",
            " [1.00000000e+00 1.50000000e+00 2.25000000e+00 3.37500000e+00\n",
            "  5.06250000e+00 7.59375000e+00 1.13906250e+01]\n",
            " [1.00000000e+00 2.00000000e+00 4.00000000e+00 8.00000000e+00\n",
            "  1.60000000e+01 3.20000000e+01 6.40000000e+01]\n",
            " [1.00000000e+00 2.50000000e+00 6.25000000e+00 1.56250000e+01\n",
            "  3.90625000e+01 9.76562500e+01 2.44140625e+02]\n",
            " [1.00000000e+00 3.00000000e+00 9.00000000e+00 2.70000000e+01\n",
            "  8.10000000e+01 2.43000000e+02 7.29000000e+02]]\n"
          ],
          "name": "stdout"
        }
      ]
    },
    {
      "cell_type": "code",
      "metadata": {
        "id": "wECx6pRd-ykK"
      },
      "source": [
        "# Vector y\n",
        "y = np.array(y).reshape(8,1)\n"
      ],
      "execution_count": null,
      "outputs": []
    },
    {
      "cell_type": "code",
      "metadata": {
        "colab": {
          "base_uri": "https://localhost:8080/"
        },
        "id": "D4p_hDnV-axO",
        "outputId": "40c27d32-3168-4449-9edf-343faf581e07"
      },
      "source": [
        "# Usamos la función de scipy.linalg.solve(), para encontrar los 8 coeficientes \n",
        "# de la solución lineal Xa=y\n",
        "a = la.solve(X,y)\n",
        "print(np.round(a,7))"
      ],
      "execution_count": null,
      "outputs": [
        {
          "output_type": "stream",
          "text": [
            "[[ 0.0000000e+00]\n",
            " [ 1.0006718e+00]\n",
            " [-3.7079000e-03]\n",
            " [-1.5886790e-01]\n",
            " [-8.3022000e-03]\n",
            " [ 1.3196400e-02]\n",
            " [-1.5449000e-03]\n",
            " [ 2.4600000e-05]]\n"
          ],
          "name": "stdout"
        }
      ]
    },
    {
      "cell_type": "code",
      "metadata": {
        "colab": {
          "base_uri": "https://localhost:8080/",
          "height": 295
        },
        "id": "_VIGswQ6-l72",
        "outputId": "a7de557e-60be-460e-9f6f-a0ddc2875492"
      },
      "source": [
        "#Graficamos el polinomio interpolante y los puntos interpolados\n",
        "xs = np.linspace(0,25,150)\n",
        "ys = sum([a[k]*xs**k for k in range(0,8)])\n",
        "plt.plot(x,y,'r.',xs,ys,color='lime')\n",
        "plt.plot(x, np.sin(x), color='red')\n",
        "plt.grid()\n",
        "plt.title('Polinomio interpolante p(x)', color='purple')\n",
        "plt.xlabel('x',color='r')\n",
        "plt.ylabel('y', color='g')\n",
        "plt.show()"
      ],
      "execution_count": null,
      "outputs": [
        {
          "output_type": "display_data",
          "data": {
            "image/png": "[encoded data removed]",
            "text/plain": [
              "<Figure size 432x288 with 1 Axes>"
            ]
          },
          "metadata": {
            "tags": [],
            "needs_background": "light"
          }
        }
      ]
    },
    {
      "cell_type": "code",
      "metadata": {
        "colab": {
          "base_uri": "https://localhost:8080/",
          "height": 295
        },
        "id": "N6BB6WYT_qmj",
        "outputId": "27a3c2c9-2493-4ee0-9095-68f562aab893"
      },
      "source": [
        "# Vamos a imprimir la misma grafica pero con otros valores en la parte de Xs\n",
        "\n",
        "#Graficamos el polinomio interpolante y los puntos interpolados\n",
        "xs = np.linspace(0,2,100)\n",
        "ys = sum([a[k]*xs**k for k in range(0,8)])\n",
        "plt.plot(x,y,'r.',xs,ys,color='lime')\n",
        "plt.plot(x, np.sin(x), color='red')\n",
        "plt.grid()\n",
        "plt.title('Polinomio interpolante p(x)', color='purple')\n",
        "plt.xlabel('x',color='r')\n",
        "plt.ylabel('y', color='g')\n",
        "plt.show()"
      ],
      "execution_count": null,
      "outputs": [
        {
          "output_type": "display_data",
          "data": {
            "image/png": "[encoded data removed]",
            "text/plain": [
              "<Figure size 432x288 with 1 Axes>"
            ]
          },
          "metadata": {
            "tags": [],
            "needs_background": "light"
          }
        }
      ]
    },
    {
      "cell_type": "markdown",
      "metadata": {
        "id": "vcepikZOAIfU"
      },
      "source": [
        "Como pudimos ver si modificamos Xs tenemos una grafica diferente "
      ]
    },
    {
      "cell_type": "markdown",
      "metadata": {
        "id": "1C09KhmIAaPu"
      },
      "source": [
        "Ejercicio 6. Regrese a su modelo de análisis de series de tiempo. Haga una descomposición de su serie de tiempo de las temperaturas (Tmax y Tmin), y realice una regresión lineal sobre la serie de Tendencia de Temp $(T = a_0 + a_1 t)$. Encuentre si la pendiente es positiva o negativa de la tendencia (signo de $a_1$), es decir si las Temperaturas (Tmax, Tmin) están subiendo o bajando en el periodo analizado."
      ]
    },
    {
      "cell_type": "code",
      "metadata": {
        "colab": {
          "base_uri": "https://localhost:8080/"
        },
        "id": "1b3x132sEij0",
        "outputId": "ad25165e-0a9f-46d9-ead9-5ee0cb86d990"
      },
      "source": [
        "# Pronóstico de Series de Tiempo\n",
        "\n",
        "# Importamos las bibliotecas a utilizar\n",
        "import pandas as pd\n",
        "import numpy as np\n",
        "import matplotlib.pyplot as plt\n",
        "import seaborn as sns\n",
        "\n",
        "# Bibliotecas para el análisis de Series de Tiempo y Modelos de Pronóstico\n",
        "import statsmodels.api as sm\n",
        "from statsmodels.tsa.stattools import adfuller\n",
        "from statsmodels.tsa.arima_model import ARIMA\n",
        "from statsmodels.tsa.stattools import acf, pacf\n",
        "import pandas.util.testing as tm\n",
        "\n",
        "# Suprimir mensajes de alertas de cambios futuros\n",
        "import warnings\n",
        "warnings.simplefilter(action='ignore', category=FutureWarning)\n",
        "\n",
        "# Matplotlib mostrará los resultados en la Notebook de Jupyter\n",
        "%matplotlib inline"
      ],
      "execution_count": null,
      "outputs": [
        {
          "output_type": "stream",
          "text": [
            "/usr/local/lib/python3.7/dist-packages/statsmodels/tools/_testing.py:19: FutureWarning: pandas.util.testing is deprecated. Use the functions in the public API at pandas.testing instead.\n",
            "  import pandas.util.testing as tm\n"
          ],
          "name": "stderr"
        }
      ]
    },
    {
      "cell_type": "code",
      "metadata": {
        "colab": {
          "base_uri": "https://localhost:8080/"
        },
        "id": "ocQEvZSPAffs",
        "outputId": "d976a33d-d97c-4527-d187-d5eed7d9510e"
      },
      "source": [
        "url = 'https://raw.githubusercontent.com/Abel-Lemus/Computacional-1-/main/Actividad6/26061.txt'\n",
        "\n",
        "# Definimos los nombres de las columnas\n",
        "# El archivo tiene códigos ASCII extendido (Español), encoding='cp1251'\n",
        "# El separador de datos es de uno o más espacios, sep='\\s+'\n",
        "# Se brincará los primeros 19 renglones y el último, afirmamos que no nay encabezado\n",
        "# Se procesan los datos utilizando Python, engine='python' \n",
        "my_cols = ['Fecha','Precip','Evap','Tmax','Tmin',]\n",
        "df_Navojoa = pd.read_csv(url, names=my_cols, encoding='cp1251', sep='\\s+', header=None, skiprows=19, skipfooter=1, engine='python') \n",
        "\n",
        "# Hacemos una copia de trabajo y preservamos el dataframe original\n",
        "df_NAV = df_Navojoa.copy()\n",
        "\n",
        "# Cambiamos la palabra nulo por un vacío y verificamos\n",
        "str_Nulo = 'Nulo'\n",
        "df_Nvojoa = df_NAV.replace(to_replace=str_Nulo, value='', regex=True)\n",
        "\n",
        "# Convertimos los valores de las variables ambientales a números flotantes y verificamos \n",
        "cols_list = ['Precip', 'Evap', 'Tmax', 'Tmin']\n",
        "for cols in cols_list:\n",
        "  df_Nvojoa[cols] = pd.to_numeric(df_NAV[cols], errors='coerce')\n",
        "\n",
        "# Definimos un nuevo dataframe por si hay que regresarse\n",
        "df_new = df_Nvojoa.copy()\n",
        "df_new['Fecha'].head()\n",
        "\n",
        "# Se convierte el objeto Fecha a variable fecha que python reconoce\n",
        "df_new['Fecha'] = pd.to_datetime(df_new['Fecha'], dayfirst=True).copy()\n",
        "\n",
        "# Añadimos dos columnas adicionales: df['Año'], df['Mes']\n",
        "# Usaremos la función .dt.year y .dt.month para extraer el Año y Mes de la Fecha\n",
        "df_new['Año'] = df_new['Fecha'].dt.year\n",
        "df_new['Mes'] = df_new['Fecha'].dt.month\n",
        "\n",
        "# Hacemos una copia del trabajo y es con el que trabajaremos para el análisis de datos\n",
        "df_met = df_new.copy()\n",
        "\n",
        "# Eliminamos la columna de Mes(numérico) y agregamos Mes(caractéres)\n",
        "df_met.drop('Mes', axis=1, inplace=True)\n",
        "df_met['Mes'] = df_met['Fecha'].dt.strftime('%b')\n",
        "\n",
        "# Nueva copia del DataFrame para Series de Tiempo\n",
        "df_met_ts = df_met.copy()\n",
        "\n",
        "# Reemplazamos el índice por la variable 'Fecha' \n",
        "df_met_ts = df_met.set_index('Fecha')\n",
        "df_met_ts.info()\n",
        "\n",
        "# Seleccionaremos un conjunto de años de 30 años\n",
        "df_60 = df_met_ts[(df_met_ts['Año'] >= 1922) & (df_met_ts['Año'] < 1953)]\n",
        "df_70 = df_met_ts[(df_met_ts['Año'] >= 1953) & (df_met_ts['Año'] < 1985)]\n",
        "df_90 = df_met_ts[(df_met_ts['Año'] >= 1985) & (df_met_ts['Año'] < 2016)]"
      ],
      "execution_count": null,
      "outputs": [
        {
          "output_type": "stream",
          "text": [
            "<class 'pandas.core.frame.DataFrame'>\n",
            "DatetimeIndex: 25775 entries, 1922-01-01 to 2016-04-30\n",
            "Data columns (total 6 columns):\n",
            " #   Column  Non-Null Count  Dtype  \n",
            "---  ------  --------------  -----  \n",
            " 0   Precip  25739 non-null  float64\n",
            " 1   Evap    19131 non-null  float64\n",
            " 2   Tmax    24841 non-null  float64\n",
            " 3   Tmin    24837 non-null  float64\n",
            " 4   Año     25775 non-null  int64  \n",
            " 5   Mes     25775 non-null  object \n",
            "dtypes: float64(4), int64(1), object(1)\n",
            "memory usage: 1.4+ MB\n"
          ],
          "name": "stdout"
        }
      ]
    },
    {
      "cell_type": "code",
      "metadata": {
        "colab": {
          "base_uri": "https://localhost:8080/"
        },
        "id": "RQ2nEQVmDzdO",
        "outputId": "84867687-472c-498f-9680-6bc7f3143d01"
      },
      "source": [
        "# Método de descomposición usando la biblioteca statsmodels.tsa\n",
        "ts_Tmax = df_60.Tmax\n",
        "decomposicion_Tmax = sm.tsa.seasonal_decompose(ts_Tmax.interpolate(), model='additive', freq=365)\n",
        "\n",
        "trend_Tem = decomposition_TMX.trend\n",
        "trend_Tem = trend_Tem[~np.isnan(trend_Tem)]\n",
        "print(trend_Tem)"
      ],
      "execution_count": null,
      "outputs": [
        {
          "output_type": "stream",
          "text": [
            "Fecha\n",
            "1922-07-02    30.323562\n",
            "1922-07-03    30.325753\n",
            "1922-07-04    30.332877\n",
            "1922-07-05    30.333425\n",
            "1922-07-06    30.344384\n",
            "                ...    \n",
            "1943-10-31    35.517397\n",
            "1943-11-01    35.481507\n",
            "1943-11-02    35.447808\n",
            "1943-11-03    35.412466\n",
            "1943-11-04    35.385342\n",
            "Name: Tmax, Length: 4477, dtype: float64\n"
          ],
          "name": "stdout"
        }
      ]
    },
    {
      "cell_type": "code",
      "metadata": {
        "colab": {
          "base_uri": "https://localhost:8080/",
          "height": 235
        },
        "id": "lnGct3etFPOP",
        "outputId": "5a08586b-040c-40eb-8f98-2cce883d8321"
      },
      "source": [
        "\n",
        "#Empezamos el analisis haciendo una primera serie de tiempo para analizar, la cual corresponde a la epoca de 1953 a 1985\n",
        "\n",
        "#Fechas de inicio y fin, para filtrar la informacion.\n",
        "start, end = '1957-09','1963-09'\n",
        "\n",
        "ts_70=df_70.loc[start:end].copy()\n",
        "ts_70.head()"
      ],
      "execution_count": null,
      "outputs": [
        {
          "output_type": "execute_result",
          "data": {
            "text/html": [
              "<div>\n",
              "<style scoped>\n",
              "    .dataframe tbody tr th:only-of-type {\n",
              "        vertical-align: middle;\n",
              "    }\n",
              "\n",
              "    .dataframe tbody tr th {\n",
              "        vertical-align: top;\n",
              "    }\n",
              "\n",
              "    .dataframe thead th {\n",
              "        text-align: right;\n",
              "    }\n",
              "</style>\n",
              "<table border=\"1\" class=\"dataframe\">\n",
              "  <thead>\n",
              "    <tr style=\"text-align: right;\">\n",
              "      <th></th>\n",
              "      <th>Precip</th>\n",
              "      <th>Evap</th>\n",
              "      <th>Tmax</th>\n",
              "      <th>Tmin</th>\n",
              "      <th>Año</th>\n",
              "      <th>Mes</th>\n",
              "    </tr>\n",
              "    <tr>\n",
              "      <th>Fecha</th>\n",
              "      <th></th>\n",
              "      <th></th>\n",
              "      <th></th>\n",
              "      <th></th>\n",
              "      <th></th>\n",
              "      <th></th>\n",
              "    </tr>\n",
              "  </thead>\n",
              "  <tbody>\n",
              "    <tr>\n",
              "      <th>1960-02-04</th>\n",
              "      <td>0.0</td>\n",
              "      <td>NaN</td>\n",
              "      <td>24.3</td>\n",
              "      <td>NaN</td>\n",
              "      <td>1960</td>\n",
              "      <td>Feb</td>\n",
              "    </tr>\n",
              "    <tr>\n",
              "      <th>1960-02-05</th>\n",
              "      <td>0.0</td>\n",
              "      <td>NaN</td>\n",
              "      <td>27.5</td>\n",
              "      <td>6.9</td>\n",
              "      <td>1960</td>\n",
              "      <td>Feb</td>\n",
              "    </tr>\n",
              "    <tr>\n",
              "      <th>1960-02-06</th>\n",
              "      <td>0.0</td>\n",
              "      <td>NaN</td>\n",
              "      <td>26.8</td>\n",
              "      <td>8.1</td>\n",
              "      <td>1960</td>\n",
              "      <td>Feb</td>\n",
              "    </tr>\n",
              "    <tr>\n",
              "      <th>1960-02-07</th>\n",
              "      <td>0.0</td>\n",
              "      <td>NaN</td>\n",
              "      <td>26.7</td>\n",
              "      <td>9.0</td>\n",
              "      <td>1960</td>\n",
              "      <td>Feb</td>\n",
              "    </tr>\n",
              "    <tr>\n",
              "      <th>1960-02-08</th>\n",
              "      <td>0.0</td>\n",
              "      <td>NaN</td>\n",
              "      <td>27.5</td>\n",
              "      <td>9.8</td>\n",
              "      <td>1960</td>\n",
              "      <td>Feb</td>\n",
              "    </tr>\n",
              "  </tbody>\n",
              "</table>\n",
              "</div>"
            ],
            "text/plain": [
              "            Precip  Evap  Tmax  Tmin   Año  Mes\n",
              "Fecha                                          \n",
              "1960-02-04     0.0   NaN  24.3   NaN  1960  Feb\n",
              "1960-02-05     0.0   NaN  27.5   6.9  1960  Feb\n",
              "1960-02-06     0.0   NaN  26.8   8.1  1960  Feb\n",
              "1960-02-07     0.0   NaN  26.7   9.0  1960  Feb\n",
              "1960-02-08     0.0   NaN  27.5   9.8  1960  Feb"
            ]
          },
          "metadata": {
            "tags": []
          },
          "execution_count": 114
        }
      ]
    },
    {
      "cell_type": "code",
      "metadata": {
        "id": "gIInyUmWGqN1"
      },
      "source": [
        "# Método de descomposición usando la biblioteca statsmodels.tsa\n",
        "ts_Tmax = df_90.Tmax\n",
        "decomposicion_Tmax = sm.tsa.seasonal_decompose(ts_Tmax.interpolate(), model='additive', freq=365)\n"
      ],
      "execution_count": null,
      "outputs": []
    },
    {
      "cell_type": "code",
      "metadata": {
        "colab": {
          "base_uri": "https://localhost:8080/"
        },
        "id": "pkygujGjG6Ss",
        "outputId": "c1d8c70f-babb-4e04-e7c0-8962532aa9e2"
      },
      "source": [
        "tem_Tmax = decomposicion_Tmax.trend\n",
        "tem_Tmax = tem_Tmax[~np.isnan(tem_Tmax)]\n",
        "print(tem_Tmax)"
      ],
      "execution_count": null,
      "outputs": [
        {
          "output_type": "stream",
          "text": [
            "Fecha\n",
            "1985-07-02    30.623288\n",
            "1985-07-03    30.647945\n",
            "1985-07-04    30.664384\n",
            "1985-07-05    30.675342\n",
            "1985-07-06    30.686301\n",
            "                ...    \n",
            "2015-06-28    33.061644\n",
            "2015-06-29    33.023288\n",
            "2015-06-30    32.982192\n",
            "2015-07-01    32.952055\n",
            "2015-07-02    32.924658\n",
            "Name: Tmax, Length: 10754, dtype: float64\n"
          ],
          "name": "stdout"
        }
      ]
    },
    {
      "cell_type": "code",
      "metadata": {
        "colab": {
          "base_uri": "https://localhost:8080/",
          "height": 295
        },
        "id": "0dfnC05DHWOd",
        "outputId": "2f8bacaf-9f6a-4f6e-e971-22e78bd16fdc"
      },
      "source": [
        "x = np.arange(0,10754)\n",
        "y = tem_Tmax\n",
        "plt.scatter(x,y, color = \"lime\");\n",
        "plt.grid()\n",
        "plt.title('Serie de Tendencia Tmax de 20061, Navojoa Sonora')\n",
        "plt.xlabel('x', color = \"r\")\n",
        "plt.ylabel('y', color = \"purple\")\n",
        "plt.show()"
      ],
      "execution_count": null,
      "outputs": [
        {
          "output_type": "display_data",
          "data": {
            "image/png": "[encoded data removed]",
            "text/plain": [
              "<Figure size 432x288 with 1 Axes>"
            ]
          },
          "metadata": {
            "tags": [],
            "needs_background": "light"
          }
        }
      ]
    },
    {
      "cell_type": "code",
      "metadata": {
        "colab": {
          "base_uri": "https://localhost:8080/"
        },
        "id": "jfobC_kIICOa",
        "outputId": "dece844a-e28a-4678-86ef-6a039c112608"
      },
      "source": [
        "# Construimos la matriz de Vandermonde\n",
        "X = np.column_stack([np.ones(10754),x])\n",
        "\n",
        "print(X[:5,:5])"
      ],
      "execution_count": null,
      "outputs": [
        {
          "output_type": "stream",
          "text": [
            "[[1. 0.]\n",
            " [1. 1.]\n",
            " [1. 2.]\n",
            " [1. 3.]\n",
            " [1. 4.]]\n"
          ],
          "name": "stdout"
        }
      ]
    },
    {
      "cell_type": "code",
      "metadata": {
        "colab": {
          "base_uri": "https://localhost:8080/"
        },
        "id": "xbjd42aQIwxz",
        "outputId": "6fcd1a97-e977-4036-e622-d6acb8200451"
      },
      "source": [
        "# Usamos la función scipy.linalg.solve() para resolver la ecuación X.T@X@a = X.T@y respecto a 'a'\n",
        "a = la.solve(X.T @ X, X.T @ y)\n",
        "print(a)"
      ],
      "execution_count": null,
      "outputs": [
        {
          "output_type": "stream",
          "text": [
            "[3.17378454e+01 2.38175274e-04]\n"
          ],
          "name": "stdout"
        }
      ]
    },
    {
      "cell_type": "code",
      "metadata": {
        "colab": {
          "base_uri": "https://localhost:8080/",
          "height": 295
        },
        "id": "BQDwDlugI9kI",
        "outputId": "9c40d486-71a6-4634-e960-330b5be1cd31"
      },
      "source": [
        "# Graficamos el ajuste con esos 2 coeficientes de la regresión y = a_0 + a_1 x \n",
        "xs = np.linspace(0,10754,40)\n",
        "ys = a[0] + a[1]*xs\n",
        "plt.plot(xs,ys,'purple',linewidth=4)\n",
        "plt.scatter(x,y, color = \"lime\");\n",
        "plt.grid()\n",
        "plt.title('Ajuste mediante Regresión Lineal de los datos, para la estacion 20061')\n",
        "plt.xlabel('x', color = \"g\")\n",
        "plt.ylabel('y', color = \"r\")\n",
        "plt.show()"
      ],
      "execution_count": null,
      "outputs": [
        {
          "output_type": "display_data",
          "data": {
            "image/png": "[encoded data removed]",
            "text/plain": [
              "<Figure size 432x288 with 1 Axes>"
            ]
          },
          "metadata": {
            "tags": [],
            "needs_background": "light"
          }
        }
      ]
    },
    {
      "cell_type": "markdown",
      "metadata": {
        "id": "C08X8gpaJuc_"
      },
      "source": [
        "Repetimos el mismo procedimiento pero para la temperatura minima "
      ]
    },
    {
      "cell_type": "code",
      "metadata": {
        "id": "0Gz-eYCwJHxl"
      },
      "source": [
        "# Método de descomposición usando la biblioteca statsmodels.tsa\n",
        "ts_temp_min = df_90.Tmin\n",
        "decomposicion_Tmin = sm.tsa.seasonal_decompose(ts_temp_min.interpolate(), model='additive', freq=365)"
      ],
      "execution_count": null,
      "outputs": []
    },
    {
      "cell_type": "code",
      "metadata": {
        "colab": {
          "base_uri": "https://localhost:8080/"
        },
        "id": "1le_d0_3LFR1",
        "outputId": "41daafc6-dbde-4728-a163-20b596e0bc38"
      },
      "source": [
        "tem_Tmin = decomposicion_Tmin.trend\n",
        "tem_Tmin = tem_Tmin[~np.isnan(tem_Tmin)]\n",
        "print(tem_Tmin)"
      ],
      "execution_count": null,
      "outputs": [
        {
          "output_type": "stream",
          "text": [
            "Fecha\n",
            "1985-07-02    16.813699\n",
            "1985-07-03    16.821918\n",
            "1985-07-04    16.830137\n",
            "1985-07-05    16.838356\n",
            "1985-07-06    16.852055\n",
            "                ...    \n",
            "2015-06-28    17.948630\n",
            "2015-06-29    17.910274\n",
            "2015-06-30    17.874658\n",
            "2015-07-01    17.841781\n",
            "2015-07-02    17.804795\n",
            "Name: Tmin, Length: 10754, dtype: float64\n"
          ],
          "name": "stdout"
        }
      ]
    },
    {
      "cell_type": "code",
      "metadata": {
        "colab": {
          "base_uri": "https://localhost:8080/",
          "height": 295
        },
        "id": "kkY9E3oyLj26",
        "outputId": "80ec479b-1a42-4703-d0f5-9509c7ce3cea"
      },
      "source": [
        "x = np.arange(0,10754)\n",
        "y = tem_Tmin\n",
        "plt.scatter(x,y, color = \"lime\");\n",
        "plt.grid()\n",
        "plt.title('Serie de Tendencia Tmin de 20061, Navojoa Sonora')\n",
        "plt.xlabel('x', color = \"r\")\n",
        "plt.ylabel('y', color = \"purple\")\n",
        "plt.show()"
      ],
      "execution_count": null,
      "outputs": [
        {
          "output_type": "display_data",
          "data": {
            "image/png": "[encoded data removed]",
            "text/plain": [
              "<Figure size 432x288 with 1 Axes>"
            ]
          },
          "metadata": {
            "tags": [],
            "needs_background": "light"
          }
        }
      ]
    },
    {
      "cell_type": "code",
      "metadata": {
        "colab": {
          "base_uri": "https://localhost:8080/"
        },
        "id": "N-zCTpaDL6Gs",
        "outputId": "7cc1a614-ce50-4c77-c41b-5752c0670cf2"
      },
      "source": [
        "# Usamos la función scipy.linalg.solve() para resolver la ecuación X.T@X@a = X.T@y respecto a 'a'\n",
        "a = la.solve(X.T @ X, X.T @ y)\n",
        "print(a)"
      ],
      "execution_count": null,
      "outputs": [
        {
          "output_type": "stream",
          "text": [
            "[1.62819581e+01 6.24497257e-05]\n"
          ],
          "name": "stdout"
        }
      ]
    },
    {
      "cell_type": "code",
      "metadata": {
        "colab": {
          "base_uri": "https://localhost:8080/",
          "height": 295
        },
        "id": "kPYqDMbTMB5H",
        "outputId": "117ec306-b5ae-47c6-ec42-a8ed3e2f6a29"
      },
      "source": [
        "# Graficamos el ajuste con esos 2 coeficientes de la regresión y = a_0 + a_1 x \n",
        "xs = np.linspace(0,10754,40)\n",
        "ys = a[0] + a[1]*xs\n",
        "plt.plot(xs,ys,'purple',linewidth=4)\n",
        "plt.scatter(x,y, color = \"lime\");\n",
        "plt.grid()\n",
        "plt.title('Ajuste mediante Regresión Lineal de los datos, para la estacion 20061')\n",
        "plt.xlabel('x', color = \"g\")\n",
        "plt.ylabel('y', color = \"r\")\n",
        "plt.show()"
      ],
      "execution_count": null,
      "outputs": [
        {
          "output_type": "display_data",
          "data": {
            "image/png": "[encoded data removed]",
            "text/plain": [
              "<Figure size 432x288 with 1 Axes>"
            ]
          },
          "metadata": {
            "tags": [],
            "needs_background": "light"
          }
        }
      ]
    },
    {
      "cell_type": "code",
      "metadata": {
        "colab": {
          "base_uri": "https://localhost:8080/",
          "height": 295
        },
        "id": "1Zl2_LO9MK2s",
        "outputId": "60e23894-42e5-4f53-9390-9dfb30420801"
      },
      "source": [
        "# Graficamos el ajuste con esos 2 coeficientes de la regresión y = a_0 + a_1 x \n",
        "xs = np.linspace(0,10754,80)\n",
        "ys = a[0] + a[1]*xs\n",
        "plt.plot(xs,ys,'purple',linewidth=4)\n",
        "plt.scatter(x,y, color = \"lime\");\n",
        "plt.grid()\n",
        "plt.title('Ajuste mediante Regresión Lineal de los datos, para la estacion 20061')\n",
        "plt.xlabel('x', color = \"g\")\n",
        "plt.ylabel('y', color = \"r\")\n",
        "plt.show()"
      ],
      "execution_count": null,
      "outputs": [
        {
          "output_type": "display_data",
          "data": {
            "image/png": "[encoded data removed]",
            "text/plain": [
              "<Figure size 432x288 with 1 Axes>"
            ]
          },
          "metadata": {
            "tags": [],
            "needs_background": "light"
          }
        }
      ]
    },
    {
      "cell_type": "code",
      "metadata": {
        "id": "u9LW4aLOMP25"
      },
      "source": [
        ""
      ],
      "execution_count": null,
      "outputs": []
    }
  ]
}